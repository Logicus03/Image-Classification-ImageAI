{
  "nbformat": 4,
  "nbformat_minor": 0,
  "metadata": {
    "colab": {
      "name": "Image recognition.ipynb",
      "provenance": [],
      "collapsed_sections": [],
      "authorship_tag": "ABX9TyMxGcNTwD7rgoo1aiCEJY6U",
      "include_colab_link": true
    },
    "kernelspec": {
      "name": "python3",
      "display_name": "Python 3"
    },
    "accelerator": "GPU"
  },
  "cells": [
    {
      "cell_type": "markdown",
      "metadata": {
        "id": "view-in-github",
        "colab_type": "text"
      },
      "source": [
        "<a href=\"https://colab.research.google.com/github/Logicus03/Image-Classification-ImageAI/blob/master/Image_recognition.ipynb\" target=\"_parent\"><img src=\"https://colab.research.google.com/assets/colab-badge.svg\" alt=\"Open In Colab\"/></a>"
      ]
    },
    {
      "cell_type": "markdown",
      "metadata": {
        "id": "vX2UX-9A-LBI",
        "colab_type": "text"
      },
      "source": [
        "# Image Recognition using Tensorflow\n",
        "\n",
        "Using Tutorial created by [HobbieCode](https://www.hobbiecode.com/reconocimiento-de-imagenes-con-python/)"
      ]
    },
    {
      "cell_type": "code",
      "metadata": {
        "id": "dE9HCx6e96a9",
        "colab_type": "code",
        "colab": {
          "base_uri": "https://localhost:8080/",
          "height": 153
        },
        "outputId": "1457b097-2736-4697-f60d-0645a1b3e857"
      },
      "source": [
        "# Install main packages\n",
        "\n",
        "!pip install opencv-python\n",
        "!pip install keras"
      ],
      "execution_count": 1,
      "outputs": [
        {
          "output_type": "stream",
          "text": [
            "Requirement already satisfied: opencv-python in /usr/local/lib/python3.6/dist-packages (4.1.2.30)\n",
            "Requirement already satisfied: numpy>=1.11.3 in /usr/local/lib/python3.6/dist-packages (from opencv-python) (1.18.5)\n",
            "Requirement already satisfied: keras in /usr/local/lib/python3.6/dist-packages (2.4.3)\n",
            "Requirement already satisfied: h5py in /usr/local/lib/python3.6/dist-packages (from keras) (2.10.0)\n",
            "Requirement already satisfied: scipy>=0.14 in /usr/local/lib/python3.6/dist-packages (from keras) (1.4.1)\n",
            "Requirement already satisfied: numpy>=1.9.1 in /usr/local/lib/python3.6/dist-packages (from keras) (1.18.5)\n",
            "Requirement already satisfied: pyyaml in /usr/local/lib/python3.6/dist-packages (from keras) (3.13)\n",
            "Requirement already satisfied: six in /usr/local/lib/python3.6/dist-packages (from h5py->keras) (1.15.0)\n"
          ],
          "name": "stdout"
        }
      ]
    },
    {
      "cell_type": "code",
      "metadata": {
        "id": "ONS5iFmDJf5M",
        "colab_type": "code",
        "colab": {
          "base_uri": "https://localhost:8080/",
          "height": 119
        },
        "outputId": "990cb257-a469-433e-d94b-71d48a87dcb6"
      },
      "source": [
        "%tensorflow_version 1.x\n",
        "import tensorflow\n",
        "print(tensorflow.__version__)"
      ],
      "execution_count": 2,
      "outputs": [
        {
          "output_type": "stream",
          "text": [
            "`%tensorflow_version` only switches the major version: 1.x or 2.x.\n",
            "You set: `1.14`. This will be interpreted as: `1.x`.\n",
            "\n",
            "\n",
            "TensorFlow 1.x selected.\n",
            "1.15.2\n"
          ],
          "name": "stdout"
        }
      ]
    },
    {
      "cell_type": "code",
      "metadata": {
        "id": "G7aKk1_J-ViM",
        "colab_type": "code",
        "colab": {
          "base_uri": "https://localhost:8080/",
          "height": 292
        },
        "outputId": "ff85be6d-0a4c-484c-d5f2-9b3435bd465c"
      },
      "source": [
        "!pip install imageai --upgrade\n"
      ],
      "execution_count": 3,
      "outputs": [
        {
          "output_type": "stream",
          "text": [
            "Collecting imageai\n",
            "\u001b[?25l  Downloading https://files.pythonhosted.org/packages/09/99/4023e191a343fb23f01ae02ac57a5ca58037c310e8d8c62f87638a3bafc7/imageai-2.1.5-py3-none-any.whl (180kB)\n",
            "\r\u001b[K     |█▉                              | 10kB 24.5MB/s eta 0:00:01\r\u001b[K     |███▋                            | 20kB 5.2MB/s eta 0:00:01\r\u001b[K     |█████▍                          | 30kB 5.3MB/s eta 0:00:01\r\u001b[K     |███████▎                        | 40kB 6.1MB/s eta 0:00:01\r\u001b[K     |█████████                       | 51kB 5.9MB/s eta 0:00:01\r\u001b[K     |██████████▉                     | 61kB 6.3MB/s eta 0:00:01\r\u001b[K     |████████████▊                   | 71kB 6.9MB/s eta 0:00:01\r\u001b[K     |██████████████▌                 | 81kB 6.5MB/s eta 0:00:01\r\u001b[K     |████████████████▎               | 92kB 6.9MB/s eta 0:00:01\r\u001b[K     |██████████████████▏             | 102kB 6.7MB/s eta 0:00:01\r\u001b[K     |████████████████████            | 112kB 6.7MB/s eta 0:00:01\r\u001b[K     |█████████████████████▊          | 122kB 6.7MB/s eta 0:00:01\r\u001b[K     |███████████████████████▋        | 133kB 6.7MB/s eta 0:00:01\r\u001b[K     |█████████████████████████▍      | 143kB 6.7MB/s eta 0:00:01\r\u001b[K     |███████████████████████████▏    | 153kB 6.7MB/s eta 0:00:01\r\u001b[K     |█████████████████████████████   | 163kB 6.7MB/s eta 0:00:01\r\u001b[K     |██████████████████████████████▉ | 174kB 6.7MB/s eta 0:00:01\r\u001b[K     |████████████████████████████████| 184kB 6.7MB/s \n",
            "\u001b[?25hRequirement already satisfied, skipping upgrade: pillow in /usr/local/lib/python3.6/dist-packages (from imageai) (7.0.0)\n",
            "Requirement already satisfied, skipping upgrade: h5py in /usr/local/lib/python3.6/dist-packages (from imageai) (2.10.0)\n",
            "Requirement already satisfied, skipping upgrade: matplotlib in /usr/local/lib/python3.6/dist-packages (from imageai) (3.2.2)\n",
            "Requirement already satisfied, skipping upgrade: scipy in /usr/local/lib/python3.6/dist-packages (from imageai) (1.4.1)\n",
            "Requirement already satisfied, skipping upgrade: numpy in /usr/local/lib/python3.6/dist-packages (from imageai) (1.18.5)\n",
            "Requirement already satisfied, skipping upgrade: six in /usr/local/lib/python3.6/dist-packages (from h5py->imageai) (1.15.0)\n",
            "Requirement already satisfied, skipping upgrade: cycler>=0.10 in /usr/local/lib/python3.6/dist-packages (from matplotlib->imageai) (0.10.0)\n",
            "Requirement already satisfied, skipping upgrade: kiwisolver>=1.0.1 in /usr/local/lib/python3.6/dist-packages (from matplotlib->imageai) (1.2.0)\n",
            "Requirement already satisfied, skipping upgrade: pyparsing!=2.0.4,!=2.1.2,!=2.1.6,>=2.0.1 in /usr/local/lib/python3.6/dist-packages (from matplotlib->imageai) (2.4.7)\n",
            "Requirement already satisfied, skipping upgrade: python-dateutil>=2.1 in /usr/local/lib/python3.6/dist-packages (from matplotlib->imageai) (2.8.1)\n",
            "Installing collected packages: imageai\n",
            "Successfully installed imageai-2.1.5\n"
          ],
          "name": "stdout"
        }
      ]
    },
    {
      "cell_type": "markdown",
      "metadata": {
        "id": "93pp8uVs-f-y",
        "colab_type": "text"
      },
      "source": [
        "By using ImageAI library, create the model we're going to train"
      ]
    },
    {
      "cell_type": "markdown",
      "metadata": {
        "id": "fnFdfzOQ98OW",
        "colab_type": "text"
      },
      "source": [
        "#**Files Management**\n",
        "\n",
        "Download files"
      ]
    },
    {
      "cell_type": "code",
      "metadata": {
        "id": "_Qt76yT2wWsU",
        "colab_type": "code",
        "colab": {}
      },
      "source": [
        "import requests\n",
        "from requests.adapters import HTTPAdapter\n",
        "from requests import Session, exceptions\n",
        "from requests.packages.urllib3.util.retry import Retry\n",
        "from tqdm import tqdm\n",
        "import http\n",
        "import os\n",
        "\n",
        "http.client.HTTPConnection.debuglevel = 0"
      ],
      "execution_count": 4,
      "outputs": []
    },
    {
      "cell_type": "code",
      "metadata": {
        "id": "23e93a-N-KGi",
        "colab_type": "code",
        "colab": {}
      },
      "source": [
        "# https://blog.ian.stapletoncordas.co/2014/12/retries-in-requests.html\n",
        "def requests_retry_session( \n",
        "    retries = 10,\n",
        "    backoff_factor = 0.3,    \n",
        "    status_forcelist = [104, 413, 429, 500, 502, 503, 504 ],\n",
        "    method_whitelist = [\"HEAD\", \"GET\", \"PUT\", \"DELETE\", \"OPTIONS\", \"TRACE\"]\n",
        "    ):\n",
        "  \n",
        "    session = Session()\n",
        "    retry = Retry(\n",
        "        total = retries, read = retries, connect = retries, backoff_factor = backoff_factor, \n",
        "        status_forcelist  = status_forcelist, method_whitelist  = method_whitelist\n",
        "    )\n",
        "\n",
        "    adapter = HTTPAdapter( max_retries = retry )\n",
        "    session.mount('http://', adapter)\n",
        "    session.mount('https://', adapter)\n",
        "    return session\n",
        "    \n"
      ],
      "execution_count": 5,
      "outputs": []
    },
    {
      "cell_type": "code",
      "metadata": {
        "id": "S9_djPhjJOpA",
        "colab_type": "code",
        "colab": {}
      },
      "source": [
        "\n",
        "def download_zip_file(url, file_name):\n",
        "\n",
        "  ret_val = False\n",
        "  block_size = 1024\n",
        "  initial_pos = 0\n",
        "  mode = 'wb'\n",
        "\n",
        "  try:\n",
        "    response = requests_retry_session().get(url, timeout = 5, stream=True)\n",
        "\n",
        "  except Exception as x:\n",
        "    time.sleep(20)\n",
        "    \n",
        "  else:\n",
        "    \n",
        "    if ( response.status_code == 200 ):\n",
        "      file_size = int(response.headers.get('content-length', 0))\n",
        "      ret_val = True\n",
        "\n",
        "      with open(file_name, mode) as f:\n",
        "        with tqdm(\n",
        "            total=file_size, unit='B', unit_scale=True, \n",
        "            unit_divisor=1024, desc=file_name, initial=initial_pos, \n",
        "            ascii=True, miniters=1) as pbar:\n",
        "\n",
        "              for chunk in response.iter_content(64 * block_size):\n",
        "                  f.write(chunk)\n",
        "                  pbar.update( len(chunk) )\n",
        "\n",
        "  return ret_val\n",
        "    \n"
      ],
      "execution_count": 6,
      "outputs": []
    },
    {
      "cell_type": "code",
      "metadata": {
        "id": "5A--8ZzXixmn",
        "colab_type": "code",
        "colab": {}
      },
      "source": [
        "def unzip_file( substr_name , name, file_ext='.zip', file_path='./' ):\n",
        "  #if doesn't exist one folder in the first label, create one with the name\n",
        "  from zipfile import ZipFile, LargeZipFile\n",
        "\n",
        "  #Get folder name\n",
        "  f_name = ''\n",
        "  for dirname, _, filenames in os.walk('./'): \n",
        "\n",
        "    for filename in filenames:   \n",
        "      if ( substr_name in filename and os.path.splitext(filename)[1] == file_ext ):\n",
        "          f_name = filename\n",
        "          break\n",
        "\n",
        "    print(f_name)\n",
        "    try:\n",
        "      with ZipFile( f_name, 'r') as compress_file:\n",
        "        \n",
        "        # Create a folder when .zip file is found\n",
        "        try:\n",
        "          os.mkdir(name)\n",
        "        except:\n",
        "          print(\"Dir {} exists!\".format(name) )\n",
        "\n",
        "        print(compress_file)\n",
        "          \n",
        "        # Extract all the contents of zip file in directory with the name: name\n",
        "        # contents = compress_file.read()\n",
        "        compress_file.extractall(name)\n",
        "\n",
        "    except LargeZipFile:\n",
        "      print(\"Error: File size if too large: {}.\".format(substr_name) )\n",
        "      # print(\"Cannot find the zip file for: {}.\".format(substr_name) )\n",
        "      f_name = ''\n",
        "\n",
        "    return f_name"
      ],
      "execution_count": 7,
      "outputs": []
    },
    {
      "cell_type": "markdown",
      "metadata": {
        "id": "5i5OHO7R_PDv",
        "colab_type": "text"
      },
      "source": [
        "# Image collection"
      ]
    },
    {
      "cell_type": "code",
      "metadata": {
        "id": "3PUUT_omA7LO",
        "colab_type": "code",
        "colab": {
          "base_uri": "https://localhost:8080/",
          "height": 51
        },
        "outputId": "7feeb3dc-e38e-4fe1-bc0b-2d3d1b07c1f6"
      },
      "source": [
        "download_zip_file(\"https://github.com/OlafenwaMoses/IdenProf/releases/download/v1.0/idenprof-jpg.zip\", \"idenprof-jpg.zip\")\n"
      ],
      "execution_count": 8,
      "outputs": [
        {
          "output_type": "stream",
          "text": [
            "idenprof-jpg.zip: 100%|##########| 148M/148M [00:05<00:00, 27.0MB/s]\n"
          ],
          "name": "stderr"
        },
        {
          "output_type": "execute_result",
          "data": {
            "text/plain": [
              "True"
            ]
          },
          "metadata": {
            "tags": []
          },
          "execution_count": 8
        }
      ]
    },
    {
      "cell_type": "code",
      "metadata": {
        "id": "cwp6WUwOBec7",
        "colab_type": "code",
        "colab": {
          "base_uri": "https://localhost:8080/",
          "height": 86
        },
        "outputId": "4386fc7e-882d-4f19-cba3-c7167a12c58d"
      },
      "source": [
        "unzip_file(\"idenprof-jpg\", \"\")"
      ],
      "execution_count": 9,
      "outputs": [
        {
          "output_type": "stream",
          "text": [
            "idenprof-jpg.zip\n",
            "Dir  exists!\n",
            "<zipfile.ZipFile filename='idenprof-jpg.zip' mode='r'>\n"
          ],
          "name": "stdout"
        },
        {
          "output_type": "execute_result",
          "data": {
            "application/vnd.google.colaboratory.intrinsic+json": {
              "type": "string"
            },
            "text/plain": [
              "'idenprof-jpg.zip'"
            ]
          },
          "metadata": {
            "tags": []
          },
          "execution_count": 9
        }
      ]
    },
    {
      "cell_type": "markdown",
      "metadata": {
        "id": "GZZ2HP9i_Tb-",
        "colab_type": "text"
      },
      "source": [
        "# Create the model"
      ]
    },
    {
      "cell_type": "code",
      "metadata": {
        "id": "GZItuZsi-a7t",
        "colab_type": "code",
        "colab": {
          "base_uri": "https://localhost:8080/",
          "height": 989
        },
        "outputId": "9c3b9191-4ca3-49d8-f032-1f811ef993a9"
      },
      "source": [
        "from imageai.Prediction.Custom import ModelTraining\n",
        "\n",
        "model_trainer = ModelTraining()\n",
        "model_trainer.setModelTypeAsResNet()\n",
        "model_trainer.setDataDirectory(\"idenprof\")\n",
        "model_trainer.trainModel(num_objects=10, num_experiments=10, enhance_data=True, batch_size=64, show_network_summary=False)"
      ],
      "execution_count": 11,
      "outputs": [
        {
          "output_type": "stream",
          "text": [
            "WARNING:tensorflow:`period` argument is deprecated. Please use `save_freq` to specify the frequency in number of samples seen.\n",
            "Using Enhanced Data Generation\n",
            "Found 9000 images belonging to 10 classes.\n",
            "Found 2000 images belonging to 10 classes.\n",
            "JSON Mapping for the model classes saved to  idenprof/json/model_class.json\n",
            "Number of experiments (Epochs) :  10\n",
            "Epoch 1/10\n",
            "139/140 [============================>.] - ETA: 1s - loss: 1.9921 - acc: 0.3851Epoch 1/10\n",
            " 31/140 [=====>........................] - ETA: 32s - loss: 5.8269 - acc: 0.0610\n",
            "Epoch 00001: val_acc improved from -inf to 0.06099, saving model to idenprof/models/model_ex-001_acc-0.060988.h5\n",
            "140/140 [==============================] - 207s 1s/step - loss: 1.9906 - acc: 0.3852 - val_loss: 5.8269 - val_acc: 0.0610\n",
            "Epoch 2/10\n",
            "139/140 [============================>.] - ETA: 0s - loss: 1.6205 - acc: 0.4547Epoch 1/10\n",
            " 31/140 [=====>........................] - ETA: 24s - loss: 13.9994 - acc: 0.2560\n",
            "Epoch 00002: val_acc improved from 0.06099 to 0.25605, saving model to idenprof/models/model_ex-002_acc-0.256048.h5\n",
            "140/140 [==============================] - 138s 987ms/step - loss: 1.6193 - acc: 0.4552 - val_loss: 13.9994 - val_acc: 0.2560\n",
            "Epoch 3/10\n",
            "139/140 [============================>.] - ETA: 0s - loss: 1.4220 - acc: 0.5067Epoch 1/10\n",
            " 31/140 [=====>........................] - ETA: 24s - loss: 2.4969 - acc: 0.3125\n",
            "Epoch 00003: val_acc improved from 0.25605 to 0.31250, saving model to idenprof/models/model_ex-003_acc-0.312500.h5\n",
            "140/140 [==============================] - 138s 989ms/step - loss: 1.4215 - acc: 0.5069 - val_loss: 2.4969 - val_acc: 0.3125\n",
            "Epoch 4/10\n",
            "139/140 [============================>.] - ETA: 0s - loss: 1.2872 - acc: 0.5579Epoch 1/10\n",
            " 31/140 [=====>........................] - ETA: 24s - loss: 2.8155 - acc: 0.3493\n",
            "Epoch 00004: val_acc improved from 0.31250 to 0.34929, saving model to idenprof/models/model_ex-004_acc-0.349294.h5\n",
            "140/140 [==============================] - 138s 984ms/step - loss: 1.2858 - acc: 0.5583 - val_loss: 2.8155 - val_acc: 0.3493\n",
            "Epoch 5/10\n",
            "139/140 [============================>.] - ETA: 0s - loss: 1.1626 - acc: 0.6021Epoch 1/10\n",
            " 31/140 [=====>........................] - ETA: 24s - loss: 2.5555 - acc: 0.3906\n",
            "Epoch 00005: val_acc improved from 0.34929 to 0.39062, saving model to idenprof/models/model_ex-005_acc-0.390625.h5\n",
            "140/140 [==============================] - 138s 984ms/step - loss: 1.1611 - acc: 0.6026 - val_loss: 2.5555 - val_acc: 0.3906\n",
            "Epoch 6/10\n",
            "139/140 [============================>.] - ETA: 0s - loss: 0.9466 - acc: 0.6663Epoch 1/10\n",
            " 31/140 [=====>........................] - ETA: 24s - loss: 1.1150 - acc: 0.6371\n",
            "Epoch 00006: val_acc improved from 0.39062 to 0.63710, saving model to idenprof/models/model_ex-006_acc-0.637097.h5\n",
            "140/140 [==============================] - 137s 981ms/step - loss: 0.9467 - acc: 0.6662 - val_loss: 1.1150 - val_acc: 0.6371\n",
            "Epoch 7/10\n",
            "139/140 [============================>.] - ETA: 0s - loss: 0.8726 - acc: 0.6986Epoch 1/10\n",
            " 31/140 [=====>........................] - ETA: 24s - loss: 1.0234 - acc: 0.6547\n",
            "Epoch 00007: val_acc improved from 0.63710 to 0.65474, saving model to idenprof/models/model_ex-007_acc-0.654738.h5\n",
            "140/140 [==============================] - 137s 978ms/step - loss: 0.8726 - acc: 0.6984 - val_loss: 1.0234 - val_acc: 0.6547\n",
            "Epoch 8/10\n",
            "139/140 [============================>.] - ETA: 0s - loss: 0.8220 - acc: 0.7168Epoch 1/10\n",
            " 31/140 [=====>........................] - ETA: 24s - loss: 0.8975 - acc: 0.6966\n",
            "Epoch 00008: val_acc improved from 0.65474 to 0.69657, saving model to idenprof/models/model_ex-008_acc-0.696573.h5\n",
            "140/140 [==============================] - 138s 983ms/step - loss: 0.8209 - acc: 0.7174 - val_loss: 0.8975 - val_acc: 0.6966\n",
            "Epoch 9/10\n",
            "139/140 [============================>.] - ETA: 0s - loss: 0.8114 - acc: 0.7181Epoch 1/10\n",
            " 31/140 [=====>........................] - ETA: 24s - loss: 0.8950 - acc: 0.6966\n",
            "Epoch 00009: val_acc did not improve from 0.69657\n",
            "140/140 [==============================] - 136s 973ms/step - loss: 0.8117 - acc: 0.7180 - val_loss: 0.8950 - val_acc: 0.6966\n",
            "Epoch 10/10\n",
            "139/140 [============================>.] - ETA: 0s - loss: 0.7960 - acc: 0.7267Epoch 1/10\n",
            " 31/140 [=====>........................] - ETA: 24s - loss: 0.8960 - acc: 0.7011\n",
            "Epoch 00010: val_acc improved from 0.69657 to 0.70111, saving model to idenprof/models/model_ex-010_acc-0.701109.h5\n",
            "140/140 [==============================] - 137s 978ms/step - loss: 0.7949 - acc: 0.7274 - val_loss: 0.8960 - val_acc: 0.7011\n"
          ],
          "name": "stdout"
        }
      ]
    },
    {
      "cell_type": "markdown",
      "metadata": {
        "id": "cAg7NwPT_JPK",
        "colab_type": "text"
      },
      "source": [
        "# Predict"
      ]
    },
    {
      "cell_type": "code",
      "metadata": {
        "id": "XQIjDEKY_Iqo",
        "colab_type": "code",
        "colab": {}
      },
      "source": [
        "from imageai.Prediction.Custom import CustomImagePrediction\n",
        "\n",
        "prediction = CustomImagePrediction()\n",
        "prediction.setModelTypeAsResNet()\n",
        "prediction.setModelPath(\"idenprof/models/model_ex-010_acc-0.701109.h5\") #/content/idenprof/models/model_ex-010_acc-0.701109.h5\n",
        "prediction.setJsonPath(\"idenprof/json/model_class.json\")\n",
        "prediction.loadModel(num_objects=10)"
      ],
      "execution_count": 13,
      "outputs": []
    },
    {
      "cell_type": "code",
      "metadata": {
        "id": "lTN5lxwRTuVV",
        "colab_type": "code",
        "colab": {
          "base_uri": "https://localhost:8080/",
          "height": 105
        },
        "outputId": "f8222aba-cb4d-4b60-951f-2d414644d670"
      },
      "source": [
        "predictions, probabilities = prediction.predictImage(\"_waiter_.jpg\", result_count=3)\n",
        "\n",
        "for eachPrediction, eachProbability in zip(predictions, probabilities):\n",
        "    print(eachPrediction , \" : \" , eachProbability)"
      ],
      "execution_count": 18,
      "outputs": [
        {
          "output_type": "stream",
          "text": [
            "WARNING:tensorflow:When passing input data as arrays, do not specify `steps_per_epoch`/`steps` argument. Please use `batch_size` instead.\n",
            "waiter  :  42.808035016059875\n",
            "pilot  :  29.5640766620636\n",
            "chef  :  11.947136372327805\n"
          ],
          "name": "stdout"
        }
      ]
    },
    {
      "cell_type": "markdown",
      "metadata": {
        "id": "xOIQulnP_bAg",
        "colab_type": "text"
      },
      "source": [
        ""
      ]
    }
  ]
}